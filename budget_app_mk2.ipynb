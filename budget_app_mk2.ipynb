{
 "cells": [
  {
   "cell_type": "code",
   "execution_count": 3,
   "id": "6afb686d",
   "metadata": {},
   "outputs": [],
   "source": [
    "import pandas as pd\n",
    "import numpy as np\n",
    "import matplotlib.pyplot as plt\n",
    "import datetime\n",
    "import os\n",
    "import calendar"
   ]
  },
  {
   "cell_type": "code",
   "execution_count": 4,
   "id": "4956aef0",
   "metadata": {},
   "outputs": [],
   "source": [
    "#paths to kiki and will data \n",
    "k_disc_path = r\"C:\\Users\\willd\\OneDrive\\Desktop\\Budget\\statements\\kiki_disc\"\n",
    "k_chase_path = r\"C:\\Users\\willd\\OneDrive\\Desktop\\Budget\\statements\\kiki_chase\"\n",
    "k_ally_path = r\"C:\\Users\\willd\\OneDrive\\Desktop\\Budget\\statements\\kiki_ally\"\n",
    "k_end_path = r\"C:\\Users\\willd\\OneDrive\\Desktop\\Budget\\clean_data\\k_data\\k_budget_data.xlsx\""
   ]
  },
  {
   "cell_type": "code",
   "execution_count": 5,
   "id": "ed210907",
   "metadata": {},
   "outputs": [],
   "source": [
    "# combine all csvs in a path return df  // with no duplicates \n",
    "def combine_csvs(path):\n",
    "    df_list = []\n",
    "    for item in os.listdir(path):\n",
    "        full_path = os.path.join(path, item)\n",
    "        df = pd.read_csv(full_path)\n",
    "        df_list.append(df)\n",
    "    combined = pd.concat(df_list)\n",
    "    combined.columns.values[0] = \"Date\"\n",
    "    no_dup = combined.drop_duplicates()\n",
    "    return no_dup\n",
    "\n",
    "\n",
    "# remove specific payments from a df\n",
    "def remove_item(df, descript):\n",
    "    remove_df = df[~df['Description'].str.contains(descript)]\n",
    "    return remove_df\n",
    "    \n",
    "    \n",
    "# reformat to only date amount desc, category columns\n",
    "def column_remove(df):\n",
    "    df.columns = df.columns.str.replace(' ', '') \n",
    "    if 'Category' not in df.columns:\n",
    "        df[\"Category\"] = 'misc'\n",
    "    new = df[['Date', 'Amount', 'Description', 'Category']]\n",
    "    return new\n",
    "\n",
    "# assign transaction catagory\n",
    "def category_assign(df):\n",
    "    # make seriess \n",
    "    s1 = df['Description']\n",
    "    s2 = df['Amount']\n",
    "    #ks category conditions and values\n",
    "    k_cat_condition = [(s1.str.contains('VENMO'))&(s2 < (-600)),(s1.str.contains('VENMO')),\n",
    "                       (s1.str.contains('COMCAST')),\n",
    "                       (s1.str.contains('Primco')), (s1.str.contains('SCHWAB')), (s1.str.contains('Interest Paid'))]\n",
    "    k_cat_value = ['RENT','VENMO','Bills & Utilities', 'Prim and Co', 'Investment', 'Intrest']\n",
    "    df['Category'] = np.select(k_cat_condition, k_cat_value)\n",
    "    df.loc[df['Category'] == '0', 'Category'] = 'Misc'\n",
    "    return df "
   ]
  },
  {
   "cell_type": "code",
   "execution_count": 17,
   "id": "83aa2e7e",
   "metadata": {},
   "outputs": [],
   "source": [
    "# # ws categories conditions and values\n",
    "# w_cat_condition = [(df.str.contains('VENMO')) & (df2 > 0) & (df2 < 600),(df.str.contains('VENMO'))& (df2 > 0) & (df2 > 600), (df.str.contains('VENMO')) & (df2 < 0), (df.str.contains('SPOTIFY') | df.str.contains('APPLE')),\n",
    "#                  (df.str.contains('ACTALENT')), (df.str.contains('CHECK'))\n",
    "#                 , (df.str.contains('SCHWAB BROK'))]\n",
    "# w_cat_value = ['VENMO IN','KIKI RENT','VENMO OUT', 'SUBSCRIP', 'Belair', 'RENT', 'SCHWAB']\n",
    "# s1 = df['Description']\n",
    "# s2 = df['Amount']\n",
    "# k_cat_condition = [(s1.str.contains('VENMO'))& (s2 < 600),(s1.str.contains('VENMO'))&(s2 < -600),\n",
    "#                    (s1.str.contains('COMCAST')),\n",
    "#                    (s1.str.contains('Primco')), (s1.str.contains('SCHWAB')), (s1.str.contains('Interest Paid'))]\n",
    "# k_cat_value = ['VENMO','RENT', 'Bills & Utilities', 'Prim and Co', 'Investment', 'Intrest']"
   ]
  },
  {
   "cell_type": "code",
   "execution_count": null,
   "id": "a5fd8449",
   "metadata": {},
   "outputs": [],
   "source": []
  },
  {
   "cell_type": "code",
   "execution_count": 6,
   "id": "52d1efb8",
   "metadata": {},
   "outputs": [
    {
     "name": "stderr",
     "output_type": "stream",
     "text": [
      "C:\\Users\\willd\\AppData\\Local\\Temp\\ipykernel_22980\\2493645993.py:11: SettingWithCopyWarning: \n",
      "A value is trying to be set on a copy of a slice from a DataFrame.\n",
      "Try using .loc[row_indexer,col_indexer] = value instead\n",
      "\n",
      "See the caveats in the documentation: https://pandas.pydata.org/pandas-docs/stable/user_guide/indexing.html#returning-a-view-versus-a-copy\n",
      "  disc_no_cc['Amount'] = 0 - disc_no_cc['Amount']\n"
     ]
    }
   ],
   "source": [
    "k_disc = column_remove(combine_csvs(k_disc_path))\n",
    "k_chase = column_remove(combine_csvs(k_chase_path))\n",
    "k_ally = column_remove(combine_csvs(k_ally_path))\n",
    "# categorize ally transactions\n",
    "k_ally = category_assign(k_ally)\n",
    "#remove cc payments from ally\n",
    "ally_no_cc = remove_item(k_ally, 'CHASE CREDIT CRD')\n",
    "chase_no_cc = remove_item(k_chase, 'AUTOMATIC PAYMENT')\n",
    "disc_no_cc = remove_item(k_disc, 'DIRECTPAY FULL BALANCESEE DETAILS')\n",
    "# make remoining discover \n",
    "disc_no_cc['Amount'] = 0 - disc_no_cc['Amount']"
   ]
  },
  {
   "cell_type": "code",
   "execution_count": 8,
   "id": "db80ae7f",
   "metadata": {},
   "outputs": [],
   "source": [
    "full_df =  pd.concat([disc_no_cc, chase_no_cc, ally_no_cc])"
   ]
  },
  {
   "cell_type": "code",
   "execution_count": 9,
   "id": "c1685477",
   "metadata": {},
   "outputs": [],
   "source": [
    "# change date dtype\n",
    "full_df['Date'] = pd.to_datetime(full_df['Date'])\n",
    "full_df['Month'] = pd.DatetimeIndex(full_df['Date']).month\n",
    "# change month colum to date\n",
    "full_df['Month'] = full_df['Month'].apply(lambda x: calendar.month_abbr[x])\n",
    "full_df = full_df.sort_values(by='Date')"
   ]
  },
  {
   "cell_type": "code",
   "execution_count": 10,
   "id": "a40ca920",
   "metadata": {},
   "outputs": [],
   "source": [
    "full_df = full_df[full_df['Date'] >= '2023-09-01']"
   ]
  },
  {
   "cell_type": "code",
   "execution_count": 11,
   "id": "05b56d25",
   "metadata": {},
   "outputs": [
    {
     "name": "stderr",
     "output_type": "stream",
     "text": [
      "C:\\Users\\willd\\AppData\\Local\\Temp\\ipykernel_22980\\3061870372.py:3: SettingWithCopyWarning: \n",
      "A value is trying to be set on a copy of a slice from a DataFrame.\n",
      "Try using .loc[row_indexer,col_indexer] = value instead\n",
      "\n",
      "See the caveats in the documentation: https://pandas.pydata.org/pandas-docs/stable/user_guide/indexing.html#returning-a-view-versus-a-copy\n",
      "  money_out.loc[money_out['Amount'] < 0, 'Amount'] = 0 - money_out['Amount']\n"
     ]
    }
   ],
   "source": [
    "money_in = full_df[full_df['Amount'] > 0]\n",
    "money_out = full_df[full_df['Amount'] < 0]\n",
    "money_out.loc[money_out['Amount'] < 0, 'Amount'] = 0 - money_out['Amount']\n",
    "\n",
    "\n",
    "# df of expense to income per month \n",
    "month_list = full_df['Month'].unique()\n",
    "dict_list = []\n",
    "for mon in month_list:\n",
    "    df_in = money_in[money_in['Month'] == mon]\n",
    "    df_out = money_out[money_out['Month'] == mon]\n",
    "    month_in = df_in['Amount'].sum()\n",
    "    month_out = df_out['Amount'].sum()\n",
    "    dict1 = {'Month': mon, 'Money In': month_in, 'Money Out': month_out}\n",
    "    dict_list.append(dict1)\n",
    "monthly_ratio = pd.DataFrame(dict_list)"
   ]
  },
  {
   "cell_type": "code",
   "execution_count": 12,
   "id": "fbaaa2c2",
   "metadata": {},
   "outputs": [],
   "source": [
    "writer = pd.ExcelWriter(k_end_path, engine=\"xlsxwriter\")\n",
    "full_df.to_excel(writer, sheet_name=\"full_df\")\n",
    "monthly_ratio.to_excel(writer, sheet_name=\"all_mon\")\n",
    "money_in.to_excel(writer, sheet_name=\"income\")\n",
    "money_out.to_excel(writer, sheet_name=\"expense\")\n",
    "writer.close()"
   ]
  },
  {
   "cell_type": "code",
   "execution_count": null,
   "id": "0b86c4c0",
   "metadata": {},
   "outputs": [],
   "source": []
  }
 ],
 "metadata": {
  "kernelspec": {
   "display_name": "Python 3 (ipykernel)",
   "language": "python",
   "name": "python3"
  },
  "language_info": {
   "codemirror_mode": {
    "name": "ipython",
    "version": 3
   },
   "file_extension": ".py",
   "mimetype": "text/x-python",
   "name": "python",
   "nbconvert_exporter": "python",
   "pygments_lexer": "ipython3",
   "version": "3.9.13"
  }
 },
 "nbformat": 4,
 "nbformat_minor": 5
}
